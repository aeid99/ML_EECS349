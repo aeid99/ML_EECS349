{
 "cells": [
  {
   "cell_type": "markdown",
   "metadata": {},
   "source": [
    "## Final Project: Aya Eid\n",
    "In this code, I load in data containing xyk spectral volumes of data with labels of defining if a pixel is within a nucleus or not. As it was entirely written by hand (no skikitlearn) and before I learned about NN/batch processing, there was limited computaional resources for training.  "
   ]
  },
  {
   "cell_type": "code",
   "execution_count": 50,
   "metadata": {},
   "outputs": [],
   "source": [
    "from __future__ import division\n",
    "from skimage import measure\n",
    "from mpl_toolkits.mplot3d import Axes3D\n",
    "from mpl_toolkits.axes_grid1.inset_locator import inset_axes\n",
    "\n",
    "import random\n",
    "import warnings\n",
    "import pylab\n",
    "import numpy as np\n",
    "import numpy.matlib\n",
    "import matplotlib.pyplot as plt\n",
    "import matplotlib.image as mpimg\n",
    "from sklearn.preprocessing import PolynomialFeatures\n",
    "from sklearn.model_selection import StratifiedKFold\n",
    "\n",
    "\n",
    "\"\"\"%matplotlib notebook\"\"\"\n",
    "warnings.filterwarnings('ignore')"
   ]
  },
  {
   "cell_type": "markdown",
   "metadata": {},
   "source": [
    "First a simple data loading function."
   ]
  },
  {
   "cell_type": "code",
   "execution_count": 51,
   "metadata": {},
   "outputs": [],
   "source": [
    "# load data\n",
    "def load_data(filename):\n",
    "    data = np.array(np.genfromtxt(filename, delimiter=','))  \n",
    "    x = data[:,:-1]\n",
    "    y = np.reshape(data[:,-1],(np.size(data[:,-1]),1))\n",
    "    return x,y"
   ]
  },
  {
   "cell_type": "markdown",
   "metadata": {},
   "source": [
    "Helper functions"
   ]
  },
  {
   "cell_type": "code",
   "execution_count": 52,
   "metadata": {},
   "outputs": [],
   "source": [
    "def poly_features_multiDim(x,D):\n",
    "    \"\"\"generates polynomial features with orders ranging from 0->D\"\"\"   \n",
    "    poly = PolynomialFeatures(D)\n",
    "    F = poly.fit_transform(x)  \n",
    "    return F.T\n",
    "\n",
    "def fourier_features(x,D):\n",
    "    \"\"\"takes fourier coefficients\"\"\"\n",
    "    x.shape = (x.size,1)\n",
    "    F = np.zeros((2*D+1, x.size))    \n",
    "    F[0,:] = np.ones((1,x.size))      \n",
    "    for i in np.arange(1,D+1):        \n",
    "        F[2*i-1,:] = np.cos(2*np.pi*x*i).flatten()\n",
    "        F[2*i,:] = np.sin(2*np.pi*x*i).flatten()         \n",
    "    return F\n",
    "\n",
    "def softmax_grad(F,y,w,nIter):\n",
    "    \"\"\"gradient of softmax cost function\"\"\"\n",
    "    alpha = 10**-2 \n",
    "    for k in range(nIter): \n",
    "        r = np.zeros((F.shape[1],1))\n",
    "        for p in range(y.shape[0]):\n",
    "            r = r + -1 * sigmoid(-y[p] * (F.T @ w)) * y[p]\n",
    "        grad = F @ r     \n",
    "        w = w - alpha * grad\n",
    "    return w\n",
    "\n",
    "def sigmoid(t):\n",
    "    \"\"\"sigmoid activation function \"\"\"\n",
    "    return 1/(1 + np.exp(-t))\n",
    "\n",
    "def partition_indices(length, n):\n",
    "    indices = np.arange(length)\n",
    "    np.random.shuffle(indices)\n",
    "    q, r = divmod(length, n)\n",
    "    stIndices = [q*i + min(i, r) for i in range(n+1)]\n",
    "    return [indices[stIndices[i]:stIndices[i+1]] for i in range(n)]  \n",
    "\n",
    "def partition_indices_better(x, y, k):\n",
    "    kf = StratifiedKFold(n_splits=k, random_state=None, shuffle=True)\n",
    "    return [test_index for test_index, test_index in kf.split(x, y)]  \n",
    " \n",
    "def get_classification_res(yTrue, yPredicted):  \n",
    "    TP = np.logical_and(yTrue, yPredicted)\n",
    "    TN = np.logical_and(np.logical_not(yTrue), np.logical_not(yPredicted))\n",
    "    FP = np.logical_and(np.logical_not(yTrue), yPredicted)\n",
    "    FN = np.logical_and(yTrue, np.logical_not(yPredicted))\n",
    "    return TP, TN, FP, FN"
   ]
  },
  {
   "cell_type": "markdown",
   "metadata": {},
   "source": [
    "Here I have generated some visualization functions to allow for debugging and testing"
   ]
  },
  {
   "cell_type": "code",
   "execution_count": 53,
   "metadata": {},
   "outputs": [],
   "source": [
    "# plot the polynomial  \n",
    "def plot_model_2D(w,D,y,ax,plot_color):\n",
    "    # plot determined surface in 3d space\n",
    "    s = np.arange(0, 1, .025)#.025)\n",
    "    ns = s.size\n",
    "    \n",
    "    s.shape = (ns,1)\n",
    "    sx, sy = np.meshgrid(s,s)\n",
    "    sx2 = sx.flatten()\n",
    "    sx2.shape = (sx2.size,1)\n",
    "    sy2 = sy.flatten()\n",
    "    sy2.shape = (sy2.size,1)\n",
    "    s = np.concatenate((sx2,sy2),axis=1)   \n",
    "\n",
    "    f = poly_features_multiDim(s,D)\n",
    "    z = np.dot(f.T,w)\n",
    "    z = np.reshape(z,sx.shape)\n",
    "    \n",
    " \n",
    "    ax.contour(sx, sy, z, levels=[0])\n",
    "    plt.axis([-.05,1.05,-.05,1.05])\n",
    "    #plt.axis([-.1,2,-1,2])\n",
    "    return ax\n",
    "\n",
    "def plot_model_3D(ax,w,D,y,plot_color):\n",
    "    # plot determined surface in 3d space\n",
    "    s = np.arange(0, 1, .025)\n",
    "    ns = s.size\n",
    "    \n",
    "    s.shape = (ns,1)\n",
    "    sx, sy, sz = np.meshgrid(s,s,s)\n",
    "    sx2 = sx.flatten()\n",
    "    sx2.shape = (sx2.size,1)\n",
    "    sy2 = sy.flatten()\n",
    "    sy2.shape = (sy2.size,1)\n",
    "    sz2 = sz.flatten()\n",
    "    sz2.shape = (sz2.size,1)\n",
    "    s = np.concatenate((sx2,sy2,sz2),axis=1)   \n",
    "    f = poly_features_multiDim(s,D)\n",
    "    z = np.dot(f.T,w)\n",
    "    z = np.reshape(z,sx.shape)\n",
    " \n",
    "    verts, faces, _, _ = measure.marching_cubes_lewiner(z, 0, spacing=(0.025, 0.025, 0.025))#spacing=(0.1, 0.1, 0.1))\n",
    "\n",
    "    ax.plot_trisurf(verts[:, 0], verts[:,1], faces, verts[:, 2],\n",
    "                    color='r', lw=1, alpha = .5)\n",
    "    return ax\n",
    "\n",
    "def plot_mse(ax, mses, deg, plot_color, legStr, titStr,xStr):\n",
    "    plt.figure(figsize = (15,15))\n",
    "    plt.sca(ax)\n",
    "    plt.plot(deg,mses,'--^', color = plot_color, label=legStr)\n",
    "    plt.title(titStr, fontsize=28)\n",
    "    plt.xlabel(xStr, fontsize=28)\n",
    "    plt.ylabel('error', fontsize=28)\n",
    "    plt.xlabel('degree D', fontsize=28)\n",
    "            \n",
    "# plot data \n",
    "def plot_data(x,y,i,plot_color, grid):\n",
    "    plt.subplot(grid[int(np.floor(i/3)), (i % 3) ])\n",
    "    plt.scatter(x,y,s = 30, color = plot_color)\n",
    "    plt.axis([-.1,1.1,-.1,1.1])\n",
    "    s = 'Hold out #' + str(i)\n",
    "    plt.title(s, fontsize=15)\n"
   ]
  },
  {
   "cell_type": "markdown",
   "metadata": {},
   "source": [
    "Here we train the model.  Using polynomial feature bases, I first find the optimal number of features using 10 fold hold out validation."
   ]
  },
  {
   "cell_type": "code",
   "execution_count": 54,
   "metadata": {},
   "outputs": [],
   "source": [
    "# run over all the degrees, fit each models, and calculate errors\n",
    "def hold_out_validation(x, y, k, deg_range, is_train):  \n",
    "    nP = x.shape[0]\n",
    "    is_in = y == 1\n",
    "    is_out = np.logical_not(is_in)\n",
    "    \n",
    "    \n",
    "    indices = partition_indices_better(x,y,k)\n",
    "    \n",
    "    color_test = 'orange'    \n",
    "    color_train = 'blue'\n",
    "    fig = plt.figure(figsize = (16,16))#20))\n",
    "    ax = fig.add_subplot(111)     \n",
    "\n",
    "    mses_test = np.zeros((deg_range.size,1))\n",
    "    mses_train = np.zeros((deg_range.size,1))\n",
    "    \n",
    "\n",
    "    is_test = np.logical_not(is_train)  \n",
    "\n",
    "    yTrain = y[is_train]\n",
    "    yTest  = y[is_test]\n",
    "\n",
    "    for D in np.arange(0,np.size(deg_range)):\n",
    "        # print(D/np.size(deg_range))  # -> pseudo progress bar\n",
    "        # First we find the optimal number of features for this training set  \n",
    "\n",
    "        F_train = poly_features_multiDim(x[is_train,:], deg_range[D])                \n",
    "        F_test  = poly_features_multiDim(x[is_test,:], deg_range[D])   \n",
    "\n",
    "        temp = np.linalg.pinv(np.dot(F_train, F_train.T))             \n",
    "        w = np.dot(np.dot(temp, F_train),yTrain) \n",
    "\n",
    "        trainMSEtemp = np.sign(-yTrain * np.dot(F_train.T, w))\n",
    "        trainMSEtemp[trainMSEtemp < 0] = 0\n",
    "\n",
    "        testMSEtemp = np.sign(-yTest * np.dot(F_test.T, w))\n",
    "        testMSEtemp[testMSEtemp < 0] = 0\n",
    "\n",
    "        mses_train[D] = np.sum(trainMSEtemp)/trainMSEtemp.shape[0]\n",
    "        mses_test[D] = np.sum(testMSEtemp)/testMSEtemp.shape[0]\n",
    "\n",
    "    # choose best case number of features and plot the final model\n",
    "    deg_final = 8 # deg_range[np.argmin(mses_test)]   \n",
    "    F_train = poly_features_multiDim(x[is_train,:], deg_final) \n",
    "    F_test  = poly_features_multiDim(x[is_test,:], deg_final)   \n",
    "    F = poly_features_multiDim(x, deg_final)\n",
    "    temp = np.linalg.pinv(np.dot(F_train, F_train.T))             \n",
    "    w_Final = np.dot(np.dot(temp, F_train), yTrain)      \n",
    "\n",
    "    plot_mse(ax, mses_test, deg_range, color_test, 'Testing Error','','')\n",
    "    plot_mse(ax, mses_train, deg_range, color_train, 'Training Error', 'Average MSE','degree D')\n",
    "    plt.legend(fontsize=25)\n",
    "\n",
    "    mse_all_final = np.sign(-y * np.dot(F.T, w_Final))\n",
    "    mse_all_final[mse_all_final < 0] = 0\n",
    "    \n",
    "    print('Optimal dgree chosen to be: ', deg_final)\n",
    "    return  mse_all_final, deg_final"
   ]
  },
  {
   "cell_type": "markdown",
   "metadata": {},
   "source": [
    "Load data, train for varying polynomial degrees, choose a model"
   ]
  },
  {
   "cell_type": "code",
   "execution_count": 55,
   "metadata": {
    "scrolled": false
   },
   "outputs": [
    {
     "name": "stdout",
     "output_type": "stream",
     "text": [
      "Optimal dgree chosen to be:  8\n"
     ]
    },
    {
     "data": {
      "image/png": "[encoded data removed]",
      "text/plain": [
       "<Figure size 1152x1152 with 1 Axes>"
      ]
     },
     "metadata": {
      "needs_background": "light"
     },
     "output_type": "display_data"
    },
    {
     "data": {
      "text/plain": [
       "<Figure size 1080x1080 with 0 Axes>"
      ]
     },
     "metadata": {},
     "output_type": "display_data"
    },
    {
     "data": {
      "text/plain": [
       "<Figure size 1080x1080 with 0 Axes>"
      ]
     },
     "metadata": {},
     "output_type": "display_data"
    }
   ],
   "source": [
    "# load data and defined degree range  \n",
    "x, y = load_data('data_dn4_3d\\DATA_W1_downsampled.csv')\n",
    "\n",
    "# randomy load in each image and concatenate it to the data list\n",
    "nImg = 1;\n",
    "imgNum = np.arange(2,11); \n",
    "random.shuffle(imgNum)\n",
    "imgNums = np.ones((y.shape));\n",
    "for i in imgNum:\n",
    "    nImg += 1    \n",
    "    xT, yT = load_data('data_dn4_3d\\DATA_W' + str(i) + '_downsampled.csv')\n",
    "    imgNums = np.concatenate((imgNums, i * np.ones((yT.shape))),axis=0);\n",
    "    x = np.concatenate((x,xT),axis=0);\n",
    "    y =  np.concatenate((y,yT),axis=0)\n",
    "\n",
    "# rescale all data from 0 to 1\n",
    "for i in range(x.shape[1]):\n",
    "    x[:,i] = (x[:,i] - np.min(x[:,i]))/np.ptp(x[:,i])\n",
    "\n",
    "# deciding if it the data is for training or or testing (not the best way)\n",
    "is_train = np.zeros(x.shape[0], dtype=bool)\n",
    "is_train[0:-np.int(x.shape[0]/nImg)] = True\n",
    "is_test = np.logical_not(is_train)\n",
    "\n",
    "# setting classification output to be 1 or -1\n",
    "y[y==0] = -1; \n",
    "\n",
    "# hold out validation\n",
    "k = 10\n",
    "\n",
    "# degrees to test\n",
    "deg_range = np.arange(0,20)  \n",
    "\n",
    "final_est = hold_out_validation(x, y, k, deg_range, is_train)\n"
   ]
  },
  {
   "cell_type": "code",
   "execution_count": 56,
   "metadata": {
    "scrolled": false
   },
   "outputs": [
    {
     "ename": "TypeError",
     "evalue": "only integer scalar arrays can be converted to a scalar index",
     "output_type": "error",
     "traceback": [
      "\u001b[1;31m---------------------------------------------------------------------------\u001b[0m",
      "\u001b[1;31mTypeError\u001b[0m                                 Traceback (most recent call last)",
      "\u001b[1;32m<ipython-input-56-a9fe514d9cca>\u001b[0m in \u001b[0;36m<module>\u001b[1;34m\u001b[0m\n\u001b[0;32m     10\u001b[0m \u001b[1;33m\u001b[0m\u001b[0m\n\u001b[0;32m     11\u001b[0m \u001b[0m_\u001b[0m\u001b[1;33m,\u001b[0m \u001b[0myTrained\u001b[0m \u001b[1;33m=\u001b[0m \u001b[0mload_data\u001b[0m\u001b[1;33m(\u001b[0m\u001b[1;34m'data_dn4_3d\\DATA_W'\u001b[0m \u001b[1;33m+\u001b[0m \u001b[0mstr\u001b[0m\u001b[1;33m(\u001b[0m\u001b[0mcellTrainToView\u001b[0m\u001b[1;33m)\u001b[0m \u001b[1;33m+\u001b[0m \u001b[1;34m'_downsampled.csv'\u001b[0m\u001b[1;33m)\u001b[0m\u001b[1;33m\u001b[0m\u001b[1;33m\u001b[0m\u001b[0m\n\u001b[1;32m---> 12\u001b[1;33m \u001b[0myTrained_Model\u001b[0m \u001b[1;33m=\u001b[0m \u001b[0mfinal_est\u001b[0m\u001b[1;33m[\u001b[0m\u001b[0mimgNums\u001b[0m\u001b[1;33m==\u001b[0m\u001b[0mcellTrainToView\u001b[0m\u001b[1;33m]\u001b[0m\u001b[1;33m\u001b[0m\u001b[1;33m\u001b[0m\u001b[0m\n\u001b[0m\u001b[0;32m     13\u001b[0m \u001b[0myTrained\u001b[0m \u001b[1;33m=\u001b[0m \u001b[0myTrained\u001b[0m \u001b[1;33m==\u001b[0m\u001b[1;36m1\u001b[0m\u001b[1;33m;\u001b[0m  \u001b[0myTrained\u001b[0m \u001b[1;33m=\u001b[0m \u001b[0myTrained\u001b[0m\u001b[1;33m.\u001b[0m\u001b[0mreshape\u001b[0m\u001b[1;33m(\u001b[0m\u001b[1;33m(\u001b[0m\u001b[1;33m-\u001b[0m\u001b[1;36m1\u001b[0m\u001b[1;33m,\u001b[0m\u001b[1;33m)\u001b[0m\u001b[1;33m)\u001b[0m\u001b[1;33m\u001b[0m\u001b[1;33m\u001b[0m\u001b[0m\n\u001b[0;32m     14\u001b[0m \u001b[0myTrained_Model\u001b[0m \u001b[1;33m=\u001b[0m \u001b[0myTrained_Model\u001b[0m \u001b[1;33m==\u001b[0m \u001b[1;36m1\u001b[0m\u001b[1;33m;\u001b[0m\u001b[1;33m\u001b[0m\u001b[1;33m\u001b[0m\u001b[0m\n",
      "\u001b[1;31mTypeError\u001b[0m: only integer scalar arrays can be converted to a scalar index"
     ]
    }
   ],
   "source": [
    "PATH = \"data_dn4_3d/\"\n",
    "\n",
    "sx, sy = np.meshgrid(np.arange(0,512,4),np.arange(0,512,4))    \n",
    "sx = sx.flatten()\n",
    "sy = sy.flatten()\n",
    "\n",
    "cellTrainToView = 2; \n",
    "img1 = mpimg.imread(PATH + \"Cell\" + str(cellTrainToView) +\"_imbd.png\")\n",
    "img2 = mpimg.imread(PATH + \"Cell\" + str(cellTrainToView) +\"_bw.png\")\n",
    "\n",
    "_, yTrained = load_data('data_dn4_3d\\DATA_W' + str(cellTrainToView) + '_downsampled.csv')\n",
    "yTrained_Model = final_est[imgNums==cellTrainToView]\n",
    "yTrained = yTrained ==1;  yTrained = yTrained.reshape((-1,)) \n",
    "yTrained_Model = yTrained_Model == 1; \n",
    "\n",
    "TP1, TN1, FP1, FN1 = get_classification_res(yTrained, yTrained_Model)\n",
    "\n",
    "img3 = mpimg.imread(PATH + \"Cell\" + str(imgNum[-1]) + \"_imbd.png\")\n",
    "img4 = mpimg.imread(PATH + \"Cell\" + str(imgNum[-1]) + \"_bw.png\")    \n",
    "_, yTested = load_data('data_dn4_3d\\DATA_W' + str(imgNum[-1]) + '_downsampled.csv')\n",
    "yTested_Model = final_est[imgNums==imgNum[-1]] \n",
    "yTested = yTested ==1;  yTested = yTested.reshape((-1,)) \n",
    "yTested_Model = yTested_Model == 1; \n",
    "\n",
    "TP2, TN2, FP2, FN2 = get_classification_res(yTested, yTested_Model)\n",
    "\n",
    "\n",
    "plt.figure(figsize = (34,34))\n",
    "plt.subplot(221)\n",
    "plt.imshow(img1); \n",
    "\n",
    "plt.subplot(222)\n",
    "plt.imshow(img2)\n",
    "plt.plot(sy[TP1],sx[TP1],'g.')\n",
    "plt.plot(sy[TN1],sx[TN1],'r.')\n",
    "plt.plot(sy[FP1],sx[FP1],'mx')\n",
    "plt.plot(sy[FN1],sx[FN1],'mx')\n",
    "\n",
    "\n",
    "plt.subplot(223)\n",
    "plt.imshow(img3); \n",
    "\n",
    "plt.subplot(224)\n",
    "plt.imshow(img4)\n",
    "plt.plot(sy[TP2],sx[TP2], 'g.')\n",
    "plt.plot(sy[TN2],sx[TN2], 'r.')\n",
    "plt.plot(sy[FP2],sx[FP2],'mx')\n",
    "plt.plot(sy[FN2],sx[FN2],'mx')\n",
    "plt.show()\n",
    "\n",
    "   \n",
    "print('--Training Results--')\n",
    "print('Training Accuracy: ', round((np.sum(TP1)+np.sum(TN1))/yTrained.shape[0],2))\n",
    "print('Training Precision: (PPV)', round(np.sum(TP1)/(np.sum(TP1) + np.sum(FP1)),2))\n",
    "print('Training Sensitivity (TPR): ', round(np.sum(TP1)/(np.sum(TP1) + np.sum(FN1)),2))\n",
    "print('Training Specificity (TNR): ', round(np.sum(TN1)/(np.sum(TN1) + np.sum(FP1)),2))\n",
    "print('Training Miss Rate (FNR): ', round(np.sum(FN1)/(np.sum(FN1) + np.sum(TP1)),2))\n",
    "print('F1 score: ', round(np.sum(TP1)/(2*np.sum(TP1) + np.sum(FP1) + np.sum(FN1)),2))\n",
    "print('\\n')\n",
    "\n",
    "print('TP-train',round(np.sum(TP1)/TP1.shape[0],2))\n",
    "print('TN-train',round(np.sum(TN1)/TP1.shape[0],2))\n",
    "print('FP-train',round(np.sum(FP1)/TP1.shape[0],2))\n",
    "print('FN-train',round(np.sum(FN1)/TP1.shape[0],2))\n",
    "print('\\n')  \n",
    "\n",
    "\n",
    "\n",
    "print('--Testing Results--')\n",
    "print('Test Accuracy: ', round((np.sum(TP2)+np.sum(TN2))/yTested.shape[0],2))\n",
    "print('Test Precision: (PPV)', round(np.sum(TP2)/(np.sum(TP2) + np.sum(FP2)),2))\n",
    "print('Test Sensitivity (TPR): ', round(np.sum(TP2)/(np.sum(TP2) + np.sum(FN2)),2))\n",
    "print('Test Specificity (TNR): ', round(np.sum(TN2)/(np.sum(TN2) + np.sum(FP2)),2))\n",
    "print('Test Miss Rate (FNR): ', round(np.sum(FN2)/(np.sum(FN2) + np.sum(TP2)),2))\n",
    "print('F1 score: ', round(np.sum(TP2)/(2*np.sum(TP2) + np.sum(FP2) + np.sum(FN2)),2))\n",
    "print('\\n')\n",
    "    \n",
    "print('TP-test',round(np.sum(TP2)/TP2.shape[0],2))\n",
    "print('TN-test',round(np.sum(TN2)/TP2.shape[0],2))\n",
    "print('FP-test',round(np.sum(FP2)/TP2.shape[0],2))\n",
    "print('FN-test',round(np.sum(FN2)/TP2.shape[0],2))\n",
    "print('\\n')   \n"
   ]
  },
  {
   "cell_type": "code",
   "execution_count": null,
   "metadata": {},
   "outputs": [],
   "source": []
  },
  {
   "cell_type": "code",
   "execution_count": null,
   "metadata": {},
   "outputs": [],
   "source": []
  }
 ],
 "metadata": {
  "anaconda-cloud": {},
  "kernelspec": {
   "display_name": "Python 3",
   "language": "python",
   "name": "python3"
  },
  "language_info": {
   "codemirror_mode": {
    "name": "ipython",
    "version": 3
   },
   "file_extension": ".py",
   "mimetype": "text/x-python",
   "name": "python",
   "nbconvert_exporter": "python",
   "pygments_lexer": "ipython3",
   "version": "3.7.4"
  }
 },
 "nbformat": 4,
 "nbformat_minor": 1
}
